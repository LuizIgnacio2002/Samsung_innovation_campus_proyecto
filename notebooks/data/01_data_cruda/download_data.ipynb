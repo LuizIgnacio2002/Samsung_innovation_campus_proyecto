{
 "cells": [
  {
   "cell_type": "code",
   "execution_count": 7,
   "id": "f19eaed2",
   "metadata": {},
   "outputs": [
    {
     "name": "stdout",
     "output_type": "stream",
     "text": [
      "  departamento    provincia     distrito   ano  semana  sub_reg_nt  ubigeo  \\\n",
      "0     AMAZONAS  CHACHAPOYAS  CHACHAPOYAS  2000       1           9   10101   \n",
      "1     AMAZONAS  CHACHAPOYAS  CHACHAPOYAS  2000       1          36   10101   \n",
      "2     AMAZONAS  CHACHAPOYAS  CHACHAPOYAS  2000       2           9   10101   \n",
      "3     AMAZONAS  CHACHAPOYAS  CHACHAPOYAS  2000       2          36   10101   \n",
      "4     AMAZONAS  CHACHAPOYAS  CHACHAPOYAS  2000       3          36   10101   \n",
      "\n",
      "   ira_no_neumonia  neumonias_men5  neumonias_60mas  hospitalizados_men5  \\\n",
      "0                6               0                0                    0   \n",
      "1               10               0                0                    0   \n",
      "2                6               0                0                    0   \n",
      "3                7               3                0                    0   \n",
      "4                8               2                0                    0   \n",
      "\n",
      "   hospitalizados_60mas  defunciones_men5  defunciones_60mas  \n",
      "0                     0                 0                  0  \n",
      "1                     0                 0                  0  \n",
      "2                     0                 0                  0  \n",
      "3                     0                 0                  0  \n",
      "4                     0                 0                  0  \n",
      "<class 'pandas.core.frame.DataFrame'>\n",
      "RangeIndex: 2143985 entries, 0 to 2143984\n",
      "Data columns (total 14 columns):\n",
      " #   Column                Dtype \n",
      "---  ------                ----- \n",
      " 0   departamento          object\n",
      " 1   provincia             object\n",
      " 2   distrito              object\n",
      " 3   ano                   int64 \n",
      " 4   semana                int64 \n",
      " 5   sub_reg_nt            int64 \n",
      " 6   ubigeo                int64 \n",
      " 7   ira_no_neumonia       int64 \n",
      " 8   neumonias_men5        int64 \n",
      " 9   neumonias_60mas       int64 \n",
      " 10  hospitalizados_men5   int64 \n",
      " 11  hospitalizados_60mas  int64 \n",
      " 12  defunciones_men5      int64 \n",
      " 13  defunciones_60mas     int64 \n",
      "dtypes: int64(11), object(3)\n",
      "memory usage: 229.0+ MB\n",
      "None\n",
      "Archivo guardado como: vigilancia_iras_2000_2023.csv\n"
     ]
    }
   ],
   "source": [
    "import pandas as pd\n",
    "\n",
    "# Define la URL directa del archivo CSV\n",
    "url = (\n",
    "    \"https://www.datosabiertos.gob.pe/sites/default/files/\"\n",
    "    \"datos_abiertos_vigilancia_iras_2000_2023.csv\"\n",
    ")\n",
    "\n",
    "# Carga los datos desde la URL\n",
    "df = pd.read_csv(url, low_memory=False)\n",
    "\n",
    "# Muestra las primeras filas para verificar que se cargó correctamente\n",
    "print(df.head())\n",
    "print(df.info())\n",
    "\n",
    "# Guarda el DataFrame en un archivo CSV local\n",
    "output_file = \"vigilancia_iras_2000_2023.csv\"\n",
    "df.to_csv(output_file, index=False, encoding=\"utf-8\")\n",
    "\n",
    "print(f\"Archivo guardado como: {output_file}\")\n"
   ]
  },
  {
   "cell_type": "code",
   "execution_count": null,
   "id": "01ff9295",
   "metadata": {},
   "outputs": [],
   "source": []
  }
 ],
 "metadata": {
  "kernelspec": {
   "display_name": "venv",
   "language": "python",
   "name": "python3"
  },
  "language_info": {
   "codemirror_mode": {
    "name": "ipython",
    "version": 3
   },
   "file_extension": ".py",
   "mimetype": "text/x-python",
   "name": "python",
   "nbconvert_exporter": "python",
   "pygments_lexer": "ipython3",
   "version": "3.11.4"
  }
 },
 "nbformat": 4,
 "nbformat_minor": 5
}
